{
 "cells": [
  {
   "cell_type": "code",
   "execution_count": null,
   "id": "d7d92265-2904-423c-97fb-fc4dcb650342",
   "metadata": {},
   "outputs": [],
   "source": [
    "import requests, csv\n",
    "from bs4 import BeautifulSoup"
   ]
  },
  {
   "cell_type": "code",
   "execution_count": null,
   "id": "1854055a-7d66-47e6-a2b4-5c1730818e8b",
   "metadata": {},
   "outputs": [],
   "source": [
    "BASE_URL = (\n",
    "    \"https://www.flipkart.com/\"\n",
    "    \"apple-iphone-13-midnight-128-gb/product-reviews/\"\n",
    "    \"itmca361aab1c5b0?pid=MOBG6VF5Q82T3XRS&marketplace=FLIPKART\"\n",
    ")\n",
    "HEADERS = {\"User-Agent\": \"Mozilla/5.0\"}"
   ]
  },
  {
   "cell_type": "code",
   "execution_count": null,
   "id": "43dcbd6d-a627-4ba9-8147-d3c1b89ccd7e",
   "metadata": {},
   "outputs": [],
   "source": [
    "with open(\"fr.csv\", \"w\", newline=\"\", encoding=\"utf-8\") as f:\n",
    "    writer = csv.writer(f)\n",
    "    writer.writerow([\"Name\", \"Rating\", \"Title\", \"Review\"])\n",
    "\n",
    "    for page in range(1, 101):           # ← change 4 to however many pages you want\n",
    "        url = f\"{BASE_URL}&page={page}\"\n",
    "        resp = requests.get(url, headers=HEADERS)\n",
    "        soup = BeautifulSoup(resp.text, \"html.parser\")\n",
    "\n",
    "        # every review block has a data-id attribute\n",
    "        for block in soup.select(\".EKFha-\"):     # ← any element with class=\"EKFha-\"\n",
    "            # 1) CSS‐selector style:\n",
    "            name   = block.select_one(\"._2NsDsF.AwS1CA\").get_text(strip=True)\n",
    "            rating = block.select_one(\".XQDdHH.Ga3i8K\"  ).get_text(strip=True)\n",
    "            title  = block.select_one(\".z9E0IG\"        ).get_text(strip=True)\n",
    "            review = block.select_one(\".ZmyHeo\"        ).get_text(\" \", strip=True)\n",
    "        \n",
    "            # 2) OR find() with class_ (same thing):\n",
    "            # name   = block.find(class_=\"_2NsDsF AwS1CA\").get_text(strip=True)\n",
    "            # rating = block.find(class_=\"XQDdHH Ga3i8K\").get_text(strip=True)\n",
    "            # title  = block.find(class_=\"z9E0IG\"      ).get_text(strip=True)\n",
    "            # review = block.find(class_=\"ZmyHeo\"      ).get_text(\" \", strip=True)\n",
    "        \n",
    "            writer.writerow([name, rating, title, review])"
   ]
  },
  {
   "cell_type": "code",
   "execution_count": null,
   "id": "40c548e8-ed3a-43b8-8987-e7b6258057d4",
   "metadata": {},
   "outputs": [],
   "source": []
  }
 ],
 "metadata": {
  "kernelspec": {
   "display_name": "Python 3 (ipykernel)",
   "language": "python",
   "name": "python3"
  },
  "language_info": {
   "codemirror_mode": {
    "name": "ipython",
    "version": 3
   },
   "file_extension": ".py",
   "mimetype": "text/x-python",
   "name": "python",
   "nbconvert_exporter": "python",
   "pygments_lexer": "ipython3",
   "version": "3.11.2"
  }
 },
 "nbformat": 4,
 "nbformat_minor": 5
}
